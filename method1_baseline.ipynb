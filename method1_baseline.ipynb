{
 "cells": [
  {
   "cell_type": "code",
   "execution_count": 1,
   "metadata": {},
   "outputs": [
    {
     "name": "stderr",
     "output_type": "stream",
     "text": [
      "[nltk_data] Downloading package stopwords to\n",
      "[nltk_data]     /Users/zionshane/nltk_data...\n",
      "[nltk_data]   Package stopwords is already up-to-date!\n",
      "[nltk_data] Downloading package wordnet to\n",
      "[nltk_data]     /Users/zionshane/nltk_data...\n",
      "[nltk_data]   Package wordnet is already up-to-date!\n"
     ]
    }
   ],
   "source": [
    "import pandas as pd\n",
    "import numpy as np\n",
    "import matplotlib.pyplot as plt\n",
    "from matplotlib.ticker import PercentFormatter\n",
    "from sklearn.feature_extraction.text import TfidfVectorizer\n",
    "import nltk\n",
    "import textwrap\n",
    "from nltk.corpus import stopwords\n",
    "nltk.download(\"stopwords\")\n",
    "\n",
    "# Packages for evalution\n",
    "## ROUGE score\n",
    "from rouge import Rouge\n",
    "## BLEU score\n",
    "from nltk.translate.bleu_score import sentence_bleu\n",
    "## BERT score\n",
    "import bert_score\n",
    "## METEOR score\n",
    "nltk.download('wordnet')\n",
    "from nltk.translate.meteor_score import meteor_score"
   ]
  },
  {
   "cell_type": "markdown",
   "metadata": {},
   "source": [
    "## Step 1: Load datasets"
   ]
  },
  {
   "cell_type": "code",
   "execution_count": 2,
   "metadata": {},
   "outputs": [],
   "source": [
    "# Read dataset.\n",
    "def load_dataset(dataset_path: str) -> pd.DataFrame:\n",
    "    df = pd.read_csv(dataset_path)\n",
    "    df.drop(columns=['id'], inplace=True) # Drop id column\n",
    "    df.dropna(inplace=True) # Drop null values (if any)\n",
    "    return df"
   ]
  },
  {
   "cell_type": "code",
   "execution_count": 3,
   "metadata": {},
   "outputs": [
    {
     "name": "stdout",
     "output_type": "stream",
     "text": [
      "Number of records in training set: 287113\n"
     ]
    },
    {
     "data": {
      "text/html": [
       "<div>\n",
       "<style scoped>\n",
       "    .dataframe tbody tr th:only-of-type {\n",
       "        vertical-align: middle;\n",
       "    }\n",
       "\n",
       "    .dataframe tbody tr th {\n",
       "        vertical-align: top;\n",
       "    }\n",
       "\n",
       "    .dataframe thead th {\n",
       "        text-align: right;\n",
       "    }\n",
       "</style>\n",
       "<table border=\"1\" class=\"dataframe\">\n",
       "  <thead>\n",
       "    <tr style=\"text-align: right;\">\n",
       "      <th></th>\n",
       "      <th>article</th>\n",
       "      <th>highlights</th>\n",
       "    </tr>\n",
       "  </thead>\n",
       "  <tbody>\n",
       "    <tr>\n",
       "      <th>0</th>\n",
       "      <td>By . Associated Press . PUBLISHED: . 14:11 EST...</td>\n",
       "      <td>Bishop John Folda, of North Dakota, is taking ...</td>\n",
       "    </tr>\n",
       "    <tr>\n",
       "      <th>1</th>\n",
       "      <td>(CNN) -- Ralph Mata was an internal affairs li...</td>\n",
       "      <td>Criminal complaint: Cop used his role to help ...</td>\n",
       "    </tr>\n",
       "    <tr>\n",
       "      <th>2</th>\n",
       "      <td>A drunk driver who killed a young woman in a h...</td>\n",
       "      <td>Craig Eccleston-Todd, 27, had drunk at least t...</td>\n",
       "    </tr>\n",
       "    <tr>\n",
       "      <th>3</th>\n",
       "      <td>(CNN) -- With a breezy sweep of his pen Presid...</td>\n",
       "      <td>Nina dos Santos says Europe must be ready to a...</td>\n",
       "    </tr>\n",
       "    <tr>\n",
       "      <th>4</th>\n",
       "      <td>Fleetwood are the only team still to have a 10...</td>\n",
       "      <td>Fleetwood top of League One after 2-0 win at S...</td>\n",
       "    </tr>\n",
       "  </tbody>\n",
       "</table>\n",
       "</div>"
      ],
      "text/plain": [
       "                                             article  \\\n",
       "0  By . Associated Press . PUBLISHED: . 14:11 EST...   \n",
       "1  (CNN) -- Ralph Mata was an internal affairs li...   \n",
       "2  A drunk driver who killed a young woman in a h...   \n",
       "3  (CNN) -- With a breezy sweep of his pen Presid...   \n",
       "4  Fleetwood are the only team still to have a 10...   \n",
       "\n",
       "                                          highlights  \n",
       "0  Bishop John Folda, of North Dakota, is taking ...  \n",
       "1  Criminal complaint: Cop used his role to help ...  \n",
       "2  Craig Eccleston-Todd, 27, had drunk at least t...  \n",
       "3  Nina dos Santos says Europe must be ready to a...  \n",
       "4  Fleetwood top of League One after 2-0 win at S...  "
      ]
     },
     "execution_count": 3,
     "metadata": {},
     "output_type": "execute_result"
    }
   ],
   "source": [
    "# Load train data.\n",
    "df_train = load_dataset(r'./data/cnn_dailymail/train.csv')\n",
    "print(\"Number of records in training set:\", len(df_train))\n",
    "df_train.head()"
   ]
  },
  {
   "cell_type": "code",
   "execution_count": 4,
   "metadata": {},
   "outputs": [
    {
     "name": "stdout",
     "output_type": "stream",
     "text": [
      "Number of records in validation set: 13368\n"
     ]
    },
    {
     "data": {
      "text/html": [
       "<div>\n",
       "<style scoped>\n",
       "    .dataframe tbody tr th:only-of-type {\n",
       "        vertical-align: middle;\n",
       "    }\n",
       "\n",
       "    .dataframe tbody tr th {\n",
       "        vertical-align: top;\n",
       "    }\n",
       "\n",
       "    .dataframe thead th {\n",
       "        text-align: right;\n",
       "    }\n",
       "</style>\n",
       "<table border=\"1\" class=\"dataframe\">\n",
       "  <thead>\n",
       "    <tr style=\"text-align: right;\">\n",
       "      <th></th>\n",
       "      <th>article</th>\n",
       "      <th>highlights</th>\n",
       "    </tr>\n",
       "  </thead>\n",
       "  <tbody>\n",
       "    <tr>\n",
       "      <th>0</th>\n",
       "      <td>Sally Forrest, an actress-dancer who graced th...</td>\n",
       "      <td>Sally Forrest, an actress-dancer who graced th...</td>\n",
       "    </tr>\n",
       "    <tr>\n",
       "      <th>1</th>\n",
       "      <td>A middle-school teacher in China has inked hun...</td>\n",
       "      <td>Works include pictures of Presidential Palace ...</td>\n",
       "    </tr>\n",
       "    <tr>\n",
       "      <th>2</th>\n",
       "      <td>A man convicted of killing the father and sist...</td>\n",
       "      <td>Iftekhar Murtaza, 29, was convicted a year ago...</td>\n",
       "    </tr>\n",
       "    <tr>\n",
       "      <th>3</th>\n",
       "      <td>Avid rugby fan Prince Harry could barely watch...</td>\n",
       "      <td>Prince Harry in attendance for England's crunc...</td>\n",
       "    </tr>\n",
       "    <tr>\n",
       "      <th>4</th>\n",
       "      <td>A Triple M Radio producer has been inundated w...</td>\n",
       "      <td>Nick Slater's colleagues uploaded a picture to...</td>\n",
       "    </tr>\n",
       "  </tbody>\n",
       "</table>\n",
       "</div>"
      ],
      "text/plain": [
       "                                             article  \\\n",
       "0  Sally Forrest, an actress-dancer who graced th...   \n",
       "1  A middle-school teacher in China has inked hun...   \n",
       "2  A man convicted of killing the father and sist...   \n",
       "3  Avid rugby fan Prince Harry could barely watch...   \n",
       "4  A Triple M Radio producer has been inundated w...   \n",
       "\n",
       "                                          highlights  \n",
       "0  Sally Forrest, an actress-dancer who graced th...  \n",
       "1  Works include pictures of Presidential Palace ...  \n",
       "2  Iftekhar Murtaza, 29, was convicted a year ago...  \n",
       "3  Prince Harry in attendance for England's crunc...  \n",
       "4  Nick Slater's colleagues uploaded a picture to...  "
      ]
     },
     "execution_count": 4,
     "metadata": {},
     "output_type": "execute_result"
    }
   ],
   "source": [
    "df_val = load_dataset(r'./data/cnn_dailymail/validation.csv')\n",
    "print(\"Number of records in validation set:\", len(df_val))\n",
    "df_val.head()"
   ]
  },
  {
   "cell_type": "code",
   "execution_count": 5,
   "metadata": {},
   "outputs": [
    {
     "name": "stdout",
     "output_type": "stream",
     "text": [
      "Number of records in test set: 11490\n"
     ]
    },
    {
     "data": {
      "text/html": [
       "<div>\n",
       "<style scoped>\n",
       "    .dataframe tbody tr th:only-of-type {\n",
       "        vertical-align: middle;\n",
       "    }\n",
       "\n",
       "    .dataframe tbody tr th {\n",
       "        vertical-align: top;\n",
       "    }\n",
       "\n",
       "    .dataframe thead th {\n",
       "        text-align: right;\n",
       "    }\n",
       "</style>\n",
       "<table border=\"1\" class=\"dataframe\">\n",
       "  <thead>\n",
       "    <tr style=\"text-align: right;\">\n",
       "      <th></th>\n",
       "      <th>article</th>\n",
       "      <th>highlights</th>\n",
       "    </tr>\n",
       "  </thead>\n",
       "  <tbody>\n",
       "    <tr>\n",
       "      <th>0</th>\n",
       "      <td>Ever noticed how plane seats appear to be gett...</td>\n",
       "      <td>Experts question if  packed out planes are put...</td>\n",
       "    </tr>\n",
       "    <tr>\n",
       "      <th>1</th>\n",
       "      <td>A drunk teenage boy had to be rescued by secur...</td>\n",
       "      <td>Drunk teenage boy climbed into lion enclosure ...</td>\n",
       "    </tr>\n",
       "    <tr>\n",
       "      <th>2</th>\n",
       "      <td>Dougie Freedman is on the verge of agreeing a ...</td>\n",
       "      <td>Nottingham Forest are close to extending Dougi...</td>\n",
       "    </tr>\n",
       "    <tr>\n",
       "      <th>3</th>\n",
       "      <td>Liverpool target Neto is also wanted by PSG an...</td>\n",
       "      <td>Fiorentina goalkeeper Neto has been linked wit...</td>\n",
       "    </tr>\n",
       "    <tr>\n",
       "      <th>4</th>\n",
       "      <td>Bruce Jenner will break his silence in a two-h...</td>\n",
       "      <td>Tell-all interview with the reality TV star, 6...</td>\n",
       "    </tr>\n",
       "  </tbody>\n",
       "</table>\n",
       "</div>"
      ],
      "text/plain": [
       "                                             article  \\\n",
       "0  Ever noticed how plane seats appear to be gett...   \n",
       "1  A drunk teenage boy had to be rescued by secur...   \n",
       "2  Dougie Freedman is on the verge of agreeing a ...   \n",
       "3  Liverpool target Neto is also wanted by PSG an...   \n",
       "4  Bruce Jenner will break his silence in a two-h...   \n",
       "\n",
       "                                          highlights  \n",
       "0  Experts question if  packed out planes are put...  \n",
       "1  Drunk teenage boy climbed into lion enclosure ...  \n",
       "2  Nottingham Forest are close to extending Dougi...  \n",
       "3  Fiorentina goalkeeper Neto has been linked wit...  \n",
       "4  Tell-all interview with the reality TV star, 6...  "
      ]
     },
     "execution_count": 5,
     "metadata": {},
     "output_type": "execute_result"
    }
   ],
   "source": [
    "df_test = load_dataset(r'./data/cnn_dailymail/test.csv')\n",
    "print(\"Number of records in test set:\", len(df_test))\n",
    "df_test.head()"
   ]
  },
  {
   "cell_type": "code",
   "execution_count": 6,
   "metadata": {},
   "outputs": [
    {
     "data": {
      "text/plain": [
       "\"By . Associated Press . PUBLISHED: . 14:11 EST, 25 October 2013 . | . UPDATED: . 15:36 EST, 25 October 2013 . The bishop of the Fargo Catholic Diocese in North Dakota has exposed potentially hundreds of church members in Fargo, Grand Forks and Jamestown to the hepatitis A virus in late September and early October. The state Health Department has issued an advisory of exposure for anyone who attended five churches and took communion. Bishop John Folda (pictured) of the Fargo Catholic Diocese in North Dakota has exposed potentially hundreds of church members in Fargo, Grand Forks and Jamestown to the hepatitis A . State Immunization Program Manager Molly Howell says the risk is low, but officials feel it's important to alert people to the possible exposure. The diocese announced on Monday that Bishop John Folda is taking time off after being diagnosed with hepatitis A. The diocese says he contracted the infection through contaminated food while attending a conference for newly ordained bishops in Italy last month. Symptoms of hepatitis A include fever, tiredness, loss of appetite, nausea and abdominal discomfort. Fargo Catholic Diocese in North Dakota (pictured) is where the bishop is located .\""
      ]
     },
     "execution_count": 6,
     "metadata": {},
     "output_type": "execute_result"
    }
   ],
   "source": [
    "# Print an example article.\n",
    "example_text = df_train['article'][0]\n",
    "example_text"
   ]
  },
  {
   "cell_type": "code",
   "execution_count": 7,
   "metadata": {},
   "outputs": [
    {
     "name": "stdout",
     "output_type": "stream",
     "text": [
      "By . Associated Press . PUBLISHED: . 14:11 EST, 25 October 2013 . | .\n",
      "UPDATED: . 15:36 EST, 25 October 2013 . The bishop of the Fargo\n",
      "Catholic Diocese in North Dakota has exposed potentially hundreds of\n",
      "church members in Fargo, Grand Forks and Jamestown to the hepatitis A\n",
      "virus in late September and early October.  The state Health\n",
      "Department has issued an advisory of exposure for anyone who attended\n",
      "five churches and took communion.  Bishop John Folda (pictured) of the\n",
      "Fargo Catholic Diocese in North Dakota has exposed potentially\n",
      "hundreds of church members in Fargo, Grand Forks and Jamestown to the\n",
      "hepatitis A . State Immunization Program Manager Molly Howell says the\n",
      "risk is low, but officials feel it's important to alert people to the\n",
      "possible exposure.  The diocese announced on Monday that Bishop John\n",
      "Folda is taking time off after being diagnosed with hepatitis A. The\n",
      "diocese says he contracted the infection through contaminated food\n",
      "while attending a conference for newly ordained bishops in Italy last\n",
      "month.  Symptoms of hepatitis A include fever, tiredness, loss of\n",
      "appetite, nausea and abdominal discomfort.  Fargo Catholic Diocese in\n",
      "North Dakota (pictured) is where the bishop is located .\n"
     ]
    }
   ],
   "source": [
    "# Print an example article (the article is wrapped for better readability).\n",
    "example_text = df_train['article'][0]\n",
    "print(textwrap.fill(text=example_text, replace_whitespace=False,\n",
    "                    fix_sentence_endings=True))"
   ]
  },
  {
   "cell_type": "code",
   "execution_count": 8,
   "metadata": {},
   "outputs": [
    {
     "data": {
      "text/plain": [
       "'Bishop John Folda, of North Dakota, is taking time off after being diagnosed .\\nHe contracted the infection through contaminated food in Italy .\\nChurch members in Fargo, Grand Forks and Jamestown could have been exposed .'"
      ]
     },
     "execution_count": 8,
     "metadata": {},
     "output_type": "execute_result"
    }
   ],
   "source": [
    "# Print an example given summmary.\n",
    "example_summary = df_train['highlights'][0]\n",
    "example_summary"
   ]
  },
  {
   "cell_type": "markdown",
   "metadata": {},
   "source": [
    "Some problems needs to be fixed in these original given summaries:\n",
    "- 1. These escape characters (such as `'\\n'`) need to be removed;\n",
    "- 2. The position of periods are not correct. Should be `'some texts. Another'` rather than `'some texts .Another'`."
   ]
  },
  {
   "cell_type": "markdown",
   "metadata": {},
   "source": [
    "As we have seen in the examples above, some sentences appear at the beginning or end of an article that do not pertain to its main content. These sentences typically provide brief details such as the name of the publication, the author, or the date of publication. Hence, it is safe to remove such redundant information from the main body of the article. These sentences are usually shorter than those in the main body, which makes it easier to filter them out when building a summarizer."
   ]
  },
  {
   "cell_type": "markdown",
   "metadata": {},
   "source": [
    "## Step 2: Data pre-processing"
   ]
  },
  {
   "cell_type": "code",
   "execution_count": 9,
   "metadata": {},
   "outputs": [],
   "source": [
    "# Remove redundant newline character ('\\n').\n",
    "df_train['highlights'] = df_train['highlights'].str.replace('\\n', ' ', regex=True)\n",
    "# Remove the extra whitespace before the periods.\n",
    "df_train['highlights'] = df_train['highlights'].str.replace(' \\.','.', regex=False)\n",
    "\n",
    "df_val['highlights'  ] = df_val['highlights'  ].str.replace('\\n', ' ', regex=True)\n",
    "df_val['highlights'  ] = df_val['highlights'  ].str.replace(' \\.','.', regex=False)\n",
    "\n",
    "df_test['highlights' ] = df_test['highlights' ].str.replace('\\n', ' ', regex=True)\n",
    "df_test['highlights' ] = df_test['highlights' ].str.replace(' \\.','.', regex=False)"
   ]
  },
  {
   "cell_type": "code",
   "execution_count": 10,
   "metadata": {},
   "outputs": [
    {
     "data": {
      "text/plain": [
       "'Bishop John Folda, of North Dakota, is taking time off after being diagnosed . He contracted the infection through contaminated food in Italy . Church members in Fargo, Grand Forks and Jamestown could have been exposed .'"
      ]
     },
     "execution_count": 10,
     "metadata": {},
     "output_type": "execute_result"
    }
   ],
   "source": [
    "# Print an example given summmary.\n",
    "example_summary = df_train['highlights'][0]\n",
    "example_summary"
   ]
  },
  {
   "cell_type": "markdown",
   "metadata": {},
   "source": [
    "## Step 3: Exploratory data analysis (EDA)"
   ]
  },
  {
   "cell_type": "code",
   "execution_count": 11,
   "metadata": {},
   "outputs": [
    {
     "data": {
      "image/png": "[encoded data removed]",
      "text/plain": [
       "<Figure size 1000x400 with 2 Axes>"
      ]
     },
     "metadata": {},
     "output_type": "display_data"
    }
   ],
   "source": [
    "samples = df_val.sample(n=100, random_state=0)\n",
    "samples.reset_index(inplace=True)\n",
    "\n",
    "article_wc = [len(article.split()) for article in samples['article']]\n",
    "summary_wc = [len(summary.split()) for summary in samples['highlights']]\n",
    "stop_words = stopwords.words('english')\n",
    "\n",
    "tfidf = TfidfVectorizer(stop_words=stop_words, norm='l1')\n",
    "article_sc = [len(nltk.tokenize.sent_tokenize(a)) for a in samples['article']]\n",
    "summary_sc = [len(nltk.tokenize.sent_tokenize(s)) for s in samples['highlights']]\n",
    "\n",
    "fig = plt.figure(figsize=(10, 4))\n",
    "plt.subplot(1, 2, 1)\n",
    "plt.scatter(article_wc, summary_wc)\n",
    "plt.xlabel('Article')\n",
    "plt.ylabel('Reference Summary')\n",
    "plt.title('Word Count')\n",
    "plt.subplot(1, 2, 2)\n",
    "plt.scatter(article_sc, summary_sc)\n",
    "plt.xlabel('Article')\n",
    "plt.ylabel('Reference Summary')\n",
    "plt.title('Sentence Count')\n",
    "plt.show()"
   ]
  },
  {
   "cell_type": "markdown",
   "metadata": {},
   "source": [
    "## Step 4: Implement baseline summarizer\n",
    "\n",
    "This article ([link](https://www.learndatasci.com/glossary/tf-idf-term-frequency-inverse-document-frequency/#:~:text=Using%20scikit%2Dlearn-,What%20is%20TF%2DIDF%3F,%2C%20relative%20to%20a%20corpus)) provided a quick intro to TF-IDF.\n",
    "\n",
    "**NOTE**: Need to figure out whether the parameter `summary_len` in function `summarize()` should be a hyperparameter or a fixed number (3 - 4 suggested by the sentence counts plot in EDA section above)."
   ]
  },
  {
   "cell_type": "code",
   "execution_count": 12,
   "metadata": {},
   "outputs": [],
   "source": [
    "def summarize(text: str, summary_len: int) -> str:\n",
    "    \"\"\" Extract sentences from text as the summary using TF-IDF scoring.\n",
    "\n",
    "    Parameters:\n",
    "        - text (str): a string of text needs to be summarized.\n",
    "        - summary_len (int): number of sentences in the summary.\n",
    "\n",
    "    Returns:\n",
    "        summary (str): a string of summary\n",
    "\n",
    "    Notes:\n",
    "        The score for each sentence is the average TF-IDF score of words (tokens)\n",
    "        whose score is not zero.\n",
    "    \"\"\"\n",
    "    # Initialize a TF-IDF Vectorizer.\n",
    "    stop_words = stopwords.words('english')\n",
    "    tfidf = TfidfVectorizer(stop_words=stop_words, norm='l1')\n",
    "    # Tokenize sentences (ie, split text into individual sentences).\n",
    "    sents = nltk.tokenize.sent_tokenize(text)\n",
    "    # Remove overly short sentences.\n",
    "    sent_lens = [len(sent) for sent in sents]\n",
    "    avg_sent_len = sum(sent_lens) / len(sent_lens)\n",
    "    sents = [sent for sent in sents if len(sent) > avg_sent_len * 0.5]\n",
    "    # Perform TF-IDF.\n",
    "    X = tfidf.fit_transform(sents)\n",
    "    # Compute each sentence score.\n",
    "    scores = np.zeros(len(sents))\n",
    "    for i in range(len(sents)):\n",
    "        score = X[i,:][X[i,:] != 0].mean()\n",
    "        scores[i] = score\n",
    "\n",
    "    # Sort the scores.\n",
    "    sort_idx = np.argsort(-scores)\n",
    "    # Concatenate sentences with top scores as the summary.\n",
    "    summary = ''\n",
    "    for i in sort_idx[:summary_len]:\n",
    "        summary += (sents[i] + ' ')\n",
    "    return summary"
   ]
  },
  {
   "cell_type": "code",
   "execution_count": 13,
   "metadata": {},
   "outputs": [
    {
     "data": {
      "text/plain": [
       "'Fargo Catholic Diocese in North Dakota (pictured) is where the bishop is located . The diocese announced on Monday that Bishop John Folda is taking time off after being diagnosed with hepatitis A. Symptoms of hepatitis A include fever, tiredness, loss of appetite, nausea and abdominal discomfort. The state Health Department has issued an advisory of exposure for anyone who attended five churches and took communion. '"
      ]
     },
     "execution_count": 13,
     "metadata": {},
     "output_type": "execute_result"
    }
   ],
   "source": [
    "# Print the generated summary for an example article.\n",
    "summarize(df_train['article'][0], 4)"
   ]
  },
  {
   "cell_type": "markdown",
   "metadata": {},
   "source": [
    "## Step 5: Evaluate generated summaries"
   ]
  },
  {
   "cell_type": "markdown",
   "metadata": {},
   "source": [
    "### ROUGE scores\n",
    "This article ([link](https://medium.com/nlplanet/two-minutes-nlp-learn-the-rouge-metric-by-examples-f179cc285499)) provides enough background knowledge we need to know to use ROUGE. We leverage the existing package `Rouge` to compute ROUGE scores in the following code cells. Note that `rouge_scores` in the below code cell is a list of list, where each inner list wraps a dictionary holding all rouge scores for one article. The dictionary has three key-value pairs. Each pair includes detailed data for rouge-1, rouge-2, and rouge-L. Each corresponding values is also a dictionary made of another three key-value pairs recording recall ('r'), precission ('p'), and F1-score ('f'). Here is an example:\n",
    "\n",
    "```python\n",
    "[[{'rouge-1': {'r': 0.1724137931034483,\n",
    "    'p': 0.09803921568627451,\n",
    "    'f': 0.12499999537812517},\n",
    "   'rouge-2': {'r': 0.06451612903225806,\n",
    "    'p': 0.028985507246376812,\n",
    "    'f': 0.039999995722000456},\n",
    "   'rouge-l': {'r': 0.1724137931034483,\n",
    "    'p': 0.09803921568627451,\n",
    "    'f': 0.12499999537812517}}],\n",
    "   ... (rouge scores for other sentences) ]\n",
    "```\n",
    "We choose to use F1 score as it combines recall and precision. We extract F1 score of rouge-1, rouge-2, and rouge-L respectively and plot them in a histogram."
   ]
  },
  {
   "cell_type": "code",
   "execution_count": 14,
   "metadata": {},
   "outputs": [],
   "source": [
    "rouge = Rouge()\n",
    "rouge_scores = []\n",
    "for i in range(len(samples)):\n",
    "    hyps_summary = summarize(samples['article'][i], 4)\n",
    "    refs_summary = samples['highlights'][i]\n",
    "    score = rouge.get_scores(hyps=hyps_summary, refs=refs_summary)\n",
    "    rouge_scores.append(score)\n",
    "\n",
    "rouge1_f1 = [record[0]['rouge-1']['f'] for record in rouge_scores]\n",
    "rouge2_f1 = [record[0]['rouge-2']['f'] for record in rouge_scores]\n",
    "rougeL_f1 = [record[0]['rouge-l']['f'] for record in rouge_scores]"
   ]
  },
  {
   "cell_type": "markdown",
   "metadata": {},
   "source": [
    "Visualize the distribution of these ROUGE scores from the `samples`. I learn to plot histogram with percentage as the y-axis from this Stackoverflow post ([link](https://stackoverflow.com/a/51477080))."
   ]
  },
  {
   "cell_type": "code",
   "execution_count": 15,
   "metadata": {},
   "outputs": [
    {
     "data": {
      "image/png": "[encoded data removed]",
      "text/plain": [
       "<Figure size 1500x400 with 3 Axes>"
      ]
     },
     "metadata": {},
     "output_type": "display_data"
    }
   ],
   "source": [
    "plt.figure(figsize=(15, 4))\n",
    "\n",
    "plt.subplot(1, 3, 1)\n",
    "plt.hist(rouge1_f1, bins=[0.1*i for i in range(11)],\n",
    "         weights=np.ones(len(rouge1_f1))/len(rouge1_f1))\n",
    "plt.gca().yaxis.set_major_formatter(PercentFormatter(xmax=1, decimals=0))\n",
    "plt.xlim(0, 1)\n",
    "plt.xticks([0.1*i for i in range(11)])\n",
    "plt.xlabel('ROUGE-1 score')\n",
    "plt.ylabel('Percentage of samples')\n",
    "\n",
    "plt.subplot(1, 3, 2)\n",
    "plt.hist(rouge2_f1, bins=[0.1*i for i in range(11)],\n",
    "         weights=np.ones(len(rouge2_f1))/len(rouge2_f1))\n",
    "plt.gca().yaxis.set_major_formatter(PercentFormatter(xmax=1, decimals=0))\n",
    "plt.xlim(0, 1)\n",
    "plt.xticks([0.1*i for i in range(11)])\n",
    "plt.xlabel('ROUGE-2 score')\n",
    "\n",
    "plt.subplot(1, 3, 3)\n",
    "plt.hist(rougeL_f1, bins=[0.1*i for i in range(11)],\n",
    "         weights=np.ones(len(rougeL_f1))/len(rougeL_f1))\n",
    "plt.gca().yaxis.set_major_formatter(PercentFormatter(xmax=1, decimals=0))\n",
    "plt.xlim(0, 1)\n",
    "plt.xticks([0.1*i for i in range(11)])\n",
    "plt.xlabel('ROUGE-L score')\n",
    "\n",
    "plt.show()"
   ]
  },
  {
   "cell_type": "markdown",
   "metadata": {},
   "source": [
    "### BLEU scores"
   ]
  },
  {
   "cell_type": "code",
   "execution_count": 16,
   "metadata": {},
   "outputs": [
    {
     "name": "stderr",
     "output_type": "stream",
     "text": [
      "/Users/zionshane/miniconda3/lib/python3.10/site-packages/nltk/translate/bleu_score.py:552: UserWarning: \n",
      "The hypothesis contains 0 counts of 3-gram overlaps.\n",
      "Therefore the BLEU score evaluates to 0, independently of\n",
      "how many N-gram overlaps of lower order it contains.\n",
      "Consider using lower n-gram order or use SmoothingFunction()\n",
      "  warnings.warn(_msg)\n",
      "/Users/zionshane/miniconda3/lib/python3.10/site-packages/nltk/translate/bleu_score.py:552: UserWarning: \n",
      "The hypothesis contains 0 counts of 4-gram overlaps.\n",
      "Therefore the BLEU score evaluates to 0, independently of\n",
      "how many N-gram overlaps of lower order it contains.\n",
      "Consider using lower n-gram order or use SmoothingFunction()\n",
      "  warnings.warn(_msg)\n",
      "/Users/zionshane/miniconda3/lib/python3.10/site-packages/nltk/translate/bleu_score.py:552: UserWarning: \n",
      "The hypothesis contains 0 counts of 2-gram overlaps.\n",
      "Therefore the BLEU score evaluates to 0, independently of\n",
      "how many N-gram overlaps of lower order it contains.\n",
      "Consider using lower n-gram order or use SmoothingFunction()\n",
      "  warnings.warn(_msg)\n"
     ]
    }
   ],
   "source": [
    "bleu_scores = []\n",
    "for i in range(len(samples)):\n",
    "    hyps_summary = summarize(samples['article'][i], 4)\n",
    "    refs_summary = samples['highlights'][i]\n",
    "    score = sentence_bleu(references=[refs_summary.split()],\n",
    "                               hypothesis=hyps_summary.split())\n",
    "    bleu_scores.append(score)"
   ]
  },
  {
   "cell_type": "code",
   "execution_count": 17,
   "metadata": {},
   "outputs": [
    {
     "data": {
      "image/png": "[encoded data removed]",
      "text/plain": [
       "<Figure size 640x480 with 1 Axes>"
      ]
     },
     "metadata": {},
     "output_type": "display_data"
    }
   ],
   "source": [
    "plt.hist(bleu_scores, bins=[0.1*i for i in range(11)],\n",
    "         weights=np.ones(len(bleu_scores))/len(bleu_scores))\n",
    "plt.gca().yaxis.set_major_formatter(PercentFormatter(xmax=1, decimals=0))\n",
    "plt.xlim(0, 1)\n",
    "plt.xticks([0.1*i for i in range(11)])\n",
    "plt.xlabel('BLEU score')\n",
    "plt.ylabel('Percentage of samples')\n",
    "plt.show()"
   ]
  },
  {
   "cell_type": "markdown",
   "metadata": {},
   "source": [
    "### BERT scores"
   ]
  },
  {
   "cell_type": "markdown",
   "metadata": {},
   "source": [
    "Tips ([link](https://stackoverflow.com/a/68476851)) to remove the annoying warnings returned from `bert_score.score()`.\n",
    "```\n",
    "Some weights of RobertaModel were not initialized from the model checkpoint at roberta-large and are newly initialized: ['roberta.pooler.dense.weight', 'roberta.pooler.dense.bias']\n",
    "You should probably TRAIN this model on a down-stream task to be able to use it for predictions and inference.\n",
    "```"
   ]
  },
  {
   "cell_type": "code",
   "execution_count": 18,
   "metadata": {},
   "outputs": [],
   "source": [
    "# NOTE: this cell takes 1m 40s to run on a MacBook Air 2021 with A1 chip.\n",
    "\n",
    "from transformers import logging\n",
    "logging.set_verbosity_error()\n",
    "\n",
    "bert_scores = []\n",
    "for i in range(len(samples)):\n",
    "    hyps_summary = summarize(samples['article'][i], 4)\n",
    "    refs_summary = samples['highlights'][i]\n",
    "    P, R, F1 = bert_score.score(cands=[hyps_summary], refs=[refs_summary],\n",
    "                                lang='en', rescale_with_baseline=True)\n",
    "    bert_scores.append(F1.item())"
   ]
  },
  {
   "cell_type": "code",
   "execution_count": 19,
   "metadata": {},
   "outputs": [
    {
     "data": {
      "image/png": "[encoded data removed]",
      "text/plain": [
       "<Figure size 640x480 with 1 Axes>"
      ]
     },
     "metadata": {},
     "output_type": "display_data"
    }
   ],
   "source": [
    "plt.hist(bert_scores, bins=[0.1*i for i in range(11)],\n",
    "         weights=np.ones(len(bert_scores))/len(bert_scores))\n",
    "plt.gca().yaxis.set_major_formatter(PercentFormatter(xmax=1, decimals=0))\n",
    "plt.xlim(0, 1)\n",
    "plt.xticks([0.1*i for i in range(11)])\n",
    "plt.xlabel('BERT score')\n",
    "plt.ylabel('Percentage of samples')\n",
    "plt.show()"
   ]
  },
  {
   "cell_type": "markdown",
   "metadata": {},
   "source": [
    "### METEOR scores"
   ]
  },
  {
   "cell_type": "code",
   "execution_count": 20,
   "metadata": {},
   "outputs": [],
   "source": [
    "meteor_scores = []\n",
    "for i in range(len(samples)):\n",
    "    hyps_summary = summarize(samples['article'][i], 4)\n",
    "    refs_summary = samples['highlights'][i]\n",
    "    score = meteor_score(references=[refs_summary.split()],\n",
    "                               hypothesis=hyps_summary.split())\n",
    "    meteor_scores.append(score)"
   ]
  },
  {
   "cell_type": "code",
   "execution_count": 21,
   "metadata": {},
   "outputs": [
    {
     "data": {
      "image/png": "[encoded data removed]",
      "text/plain": [
       "<Figure size 640x480 with 1 Axes>"
      ]
     },
     "metadata": {},
     "output_type": "display_data"
    }
   ],
   "source": [
    "plt.hist(meteor_scores, bins=[0.1*i for i in range(11)],\n",
    "         weights=np.ones(len(meteor_scores))/len(meteor_scores))\n",
    "plt.gca().yaxis.set_major_formatter(PercentFormatter(xmax=1, decimals=0))\n",
    "plt.xlim(0, 1)\n",
    "plt.xticks([0.1*i for i in range(11)])\n",
    "plt.xlabel('METEOR score')\n",
    "plt.ylabel('Percentage of samples')\n",
    "plt.show()"
   ]
  },
  {
   "cell_type": "code",
   "execution_count": null,
   "metadata": {},
   "outputs": [],
   "source": []
  }
 ],
 "metadata": {
  "kernelspec": {
   "display_name": "base",
   "language": "python",
   "name": "python3"
  },
  "language_info": {
   "codemirror_mode": {
    "name": "ipython",
    "version": 3
   },
   "file_extension": ".py",
   "mimetype": "text/x-python",
   "name": "python",
   "nbconvert_exporter": "python",
   "pygments_lexer": "ipython3",
   "version": "3.10.8"
  }
 },
 "nbformat": 4,
 "nbformat_minor": 2
}
