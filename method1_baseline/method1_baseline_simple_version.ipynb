{
 "cells": [
  {
   "cell_type": "code",
   "execution_count": 1,
   "metadata": {},
   "outputs": [
    {
     "name": "stderr",
     "output_type": "stream",
     "text": [
      "[nltk_data] Downloading package stopwords to\n",
      "[nltk_data]     /Users/zionsheng/nltk_data...\n",
      "[nltk_data]   Package stopwords is already up-to-date!\n"
     ]
    }
   ],
   "source": [
    "# Basic packages\n",
    "import pandas as pd\n",
    "import numpy as np\n",
    "\n",
    "# Package for NLP\n",
    "from sklearn.feature_extraction.text import TfidfVectorizer\n",
    "import nltk\n",
    "from nltk.corpus import stopwords\n",
    "nltk.download(\"stopwords\")\n",
    "\n",
    "# Package for visualization\n",
    "import matplotlib.pyplot as plt\n",
    "from matplotlib.ticker import PercentFormatter\n",
    "\n",
    "# Packages for evalution\n",
    "## ROUGE score\n",
    "from rouge import Rouge\n",
    "\n",
    "# Other packages\n",
    "import textwrap"
   ]
  },
  {
   "cell_type": "markdown",
   "metadata": {},
   "source": [
    "## Step 1: Load datasets"
   ]
  },
  {
   "cell_type": "code",
   "execution_count": 2,
   "metadata": {},
   "outputs": [],
   "source": [
    "# Read dataset.\n",
    "def load_dataset(dataset_path: str) -> pd.DataFrame:\n",
    "    df = pd.read_csv(dataset_path)\n",
    "    df.dropna(inplace=True) # Drop null values (if any)\n",
    "    return df"
   ]
  },
  {
   "cell_type": "code",
   "execution_count": 3,
   "metadata": {},
   "outputs": [],
   "source": [
    "df_train = load_dataset(r'../data/cnn_dailymail/train.csv')\n",
    "df_train['highlights'] = df_train['highlights'].str.replace('\\n', ' ', regex=True)\n",
    "df_train['highlights'] = df_train['highlights'].str.replace(' \\.', '.', regex=True)\n",
    "\n",
    "df_val = load_dataset(r'../data/cnn_dailymail/validation.csv')\n",
    "df_val['highlights'] = df_val['highlights'].str.replace('\\n', ' ', regex=True)\n",
    "df_val['highlights'] = df_val['highlights'].str.replace(' \\.', '.', regex=True)\n",
    "\n",
    "df_test = load_dataset(r'../data/cnn_dailymail/test.csv')\n",
    "df_test['highlights'] = df_test['highlights'].str.replace('\\n', ' ', regex=True)\n",
    "df_test['highlights'] = df_test['highlights'].str.replace(' \\.', '.', regex=True)"
   ]
  },
  {
   "cell_type": "markdown",
   "metadata": {},
   "source": [
    "## Step 2: Implement baseline summarizer (TF-IDF sum)"
   ]
  },
  {
   "cell_type": "code",
   "execution_count": 4,
   "metadata": {},
   "outputs": [],
   "source": [
    "def summarize(text: str, summary_len: int) -> str:\n",
    "    \"\"\" Extract sentences from text as the summary using TF-IDF scoring.\n",
    "\n",
    "    Parameters:\n",
    "        - text (str): a string of text needs to be summarized.\n",
    "        - summary_len (int): number of sentences in the summary.\n",
    "\n",
    "    Returns:\n",
    "        summary (str): a string of summary\n",
    "\n",
    "    Notes:\n",
    "        The score for each sentence is the average TF-IDF score of words (tokens)\n",
    "        whose score is not zero.\n",
    "    \"\"\"\n",
    "    # Initialize a TF-IDF Vectorizer.\n",
    "    stop_words = stopwords.words('english')\n",
    "    tfidf = TfidfVectorizer(stop_words=stop_words, norm='l1')\n",
    "    # Tokenize sentences (ie, split text into individual sentences).\n",
    "    sents = nltk.tokenize.sent_tokenize(text)\n",
    "    # Remove overly short sentences.\n",
    "    sent_lens = [len(sent) for sent in sents]\n",
    "    avg_sent_len = sum(sent_lens) / len(sent_lens)\n",
    "    sents = [sent for sent in sents if len(sent) > avg_sent_len * 0.5]\n",
    "    # Perform TF-IDF.\n",
    "    X = tfidf.fit_transform(sents)\n",
    "    # Compute each sentence score.\n",
    "    scores = np.zeros(len(sents))\n",
    "    for i in range(len(sents)):\n",
    "        score = X[i,:][X[i,:] != 0].mean()\n",
    "        scores[i] = score\n",
    "\n",
    "    # Sort the scores.\n",
    "    sort_idx = np.argsort(-scores)\n",
    "    # Concatenate sentences with top scores as the summary.\n",
    "    summary = ''\n",
    "    for i in sort_idx[:summary_len]:\n",
    "        summary += (sents[i] + ' ')\n",
    "    return summary"
   ]
  },
  {
   "cell_type": "markdown",
   "metadata": {},
   "source": [
    "## Step 3. Qualitative Investigation"
   ]
  },
  {
   "cell_type": "code",
   "execution_count": 5,
   "metadata": {},
   "outputs": [
    {
     "data": {
      "text/plain": [
       "'Fargo Catholic Diocese in North Dakota (pictured) is where the bishop is located . The diocese announced on Monday that Bishop John Folda is taking time off after being diagnosed with hepatitis A. Symptoms of hepatitis A include fever, tiredness, loss of appetite, nausea and abdominal discomfort. The state Health Department has issued an advisory of exposure for anyone who attended five churches and took communion. '"
      ]
     },
     "execution_count": 5,
     "metadata": {},
     "output_type": "execute_result"
    }
   ],
   "source": [
    "# Print the generated summary for an example article.\n",
    "summarize(df_train['article'][0], 4)"
   ]
  },
  {
   "cell_type": "markdown",
   "metadata": {},
   "source": [
    "## Step 4. Infer on Testset"
   ]
  },
  {
   "cell_type": "code",
   "execution_count": 7,
   "metadata": {},
   "outputs": [
    {
     "name": "stderr",
     "output_type": "stream",
     "text": [
      "/Users/zionsheng/miniconda3/lib/python3.11/site-packages/scipy/sparse/_base.py:645: RuntimeWarning: divide by zero encountered in divide\n",
      "  return self.astype(np.float_)._mul_scalar(1./other)\n"
     ]
    }
   ],
   "source": [
    "try:\n",
    "    results = pd.read_csv('./pred/TFIDFsum.csv')\n",
    "except:\n",
    "    results = pd.DataFrame(data=df_test[['id', 'highlights']])\n",
    "    results.rename(columns={'highlights':'actual_summary'}, inplace=True)\n",
    "    results['pred_summary'] = df_test.apply(lambda row:\n",
    "                                            summarize(row.article, 4),\n",
    "                                            axis=1)\n",
    "    rouge = Rouge()\n",
    "    rouge_scores = rouge.get_scores(hyps=results['pred_summary'],\n",
    "                                    refs=results['actual_summary'])\n",
    "    results['rogue1_f1'] = [record['rouge-1']['f']for record in rouge_scores]\n",
    "    results['rogue2_f1'] = [record['rouge-2']['f']for record in rouge_scores]\n",
    "    results['rogueL_f1'] = [record['rouge-l']['f']for record in rouge_scores]\n",
    "    results.to_csv('./pred/TFIDFsum.csv', index=False)"
   ]
  },
  {
   "cell_type": "markdown",
   "metadata": {},
   "source": [
    "## Step 5. Quantitative Investigation"
   ]
  },
  {
   "cell_type": "code",
   "execution_count": 8,
   "metadata": {},
   "outputs": [],
   "source": [
    "rouge1_f1 = results['rogue1_f1']\n",
    "rouge2_f1 = results['rogue2_f1']\n",
    "rougeL_f1 = results['rogueL_f1']\n",
    "avg_rouge1_f1 = rouge1_f1.mean()\n",
    "avg_rouge2_f1 = rouge2_f1.mean()\n",
    "avg_rougeL_f1 = rougeL_f1.mean()"
   ]
  },
  {
   "cell_type": "code",
   "execution_count": 9,
   "metadata": {},
   "outputs": [
    {
     "data": {
      "image/png": "[encoded data removed]",
      "text/plain": [
       "<Figure size 1500x400 with 3 Axes>"
      ]
     },
     "metadata": {},
     "output_type": "display_data"
    }
   ],
   "source": [
    "plt.figure(figsize=(15, 4))\n",
    "\n",
    "plt.subplot(1, 3, 1)\n",
    "plt.hist(rouge1_f1, bins=[0.1*i for i in range(11)],\n",
    "         weights=np.ones(len(rouge1_f1))/len(rouge1_f1))\n",
    "plt.axvline(x=avg_rouge1_f1, ls='--', lw=2, c='black', label=f'avg={avg_rouge1_f1:.2f}')\n",
    "plt.legend()\n",
    "plt.gca().yaxis.set_major_formatter(PercentFormatter(xmax=1, decimals=0))\n",
    "plt.xlim(0, 1)\n",
    "plt.xticks([0.1*i for i in range(11)])\n",
    "plt.xlabel('ROUGE-1 score')\n",
    "plt.ylabel('Percentage of samples')\n",
    "\n",
    "plt.subplot(1, 3, 2)\n",
    "plt.hist(rouge2_f1, bins=[0.1*i for i in range(11)],\n",
    "         weights=np.ones(len(rouge2_f1))/len(rouge2_f1))\n",
    "plt.axvline(x=avg_rouge2_f1, ls='--', lw=2, c='black', label=f'avg={avg_rouge2_f1:.2f}')\n",
    "plt.legend()\n",
    "plt.gca().yaxis.set_major_formatter(PercentFormatter(xmax=1, decimals=0))\n",
    "plt.xlim(0, 1)\n",
    "plt.xticks([0.1*i for i in range(11)])\n",
    "plt.xlabel('ROUGE-2 score')\n",
    "\n",
    "plt.subplot(1, 3, 3)\n",
    "plt.hist(rougeL_f1, bins=[0.1*i for i in range(11)],\n",
    "         weights=np.ones(len(rougeL_f1))/len(rougeL_f1))\n",
    "plt.axvline(x=avg_rougeL_f1, ls='--', lw=2, c='black', label=f'avg={avg_rougeL_f1:.2f}')\n",
    "plt.legend()\n",
    "plt.gca().yaxis.set_major_formatter(PercentFormatter(xmax=1, decimals=0))\n",
    "plt.xlim(0, 1)\n",
    "plt.xticks([0.1*i for i in range(11)])\n",
    "plt.xlabel('ROUGE-L score')\n",
    "\n",
    "plt.show()"
   ]
  },
  {
   "cell_type": "code",
   "execution_count": null,
   "metadata": {},
   "outputs": [],
   "source": []
  }
 ],
 "metadata": {
  "kernelspec": {
   "display_name": "base",
   "language": "python",
   "name": "python3"
  },
  "language_info": {
   "codemirror_mode": {
    "name": "ipython",
    "version": 3
   },
   "file_extension": ".py",
   "mimetype": "text/x-python",
   "name": "python",
   "nbconvert_exporter": "python",
   "pygments_lexer": "ipython3",
   "version": "3.11.5"
  }
 },
 "nbformat": 4,
 "nbformat_minor": 2
}
