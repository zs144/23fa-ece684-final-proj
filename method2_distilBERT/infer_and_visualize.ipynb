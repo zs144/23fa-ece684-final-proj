{
 "cells": [
  {
   "cell_type": "code",
   "execution_count": 1,
   "metadata": {},
   "outputs": [],
   "source": [
    "import sys\n",
    "sys.path.insert(1, './src/')\n",
    "sys.path.insert(2, './scripts/')"
   ]
  },
  {
   "cell_type": "code",
   "execution_count": 18,
   "metadata": {},
   "outputs": [],
   "source": [
    "import numpy as np\n",
    "import pandas as pd\n",
    "from rouge import Rouge\n",
    "import matplotlib.pyplot as plt\n",
    "from matplotlib.ticker import PercentFormatter"
   ]
  },
  {
   "cell_type": "markdown",
   "metadata": {},
   "source": [
    "## Step 1. Load datasets"
   ]
  },
  {
   "cell_type": "code",
   "execution_count": 5,
   "metadata": {},
   "outputs": [],
   "source": [
    "# Read dataset.\n",
    "def load_dataset(dataset_path: str) -> pd.DataFrame:\n",
    "    df = pd.read_csv(dataset_path)\n",
    "    df.dropna(inplace=True) # Drop null values (if any)\n",
    "    return df"
   ]
  },
  {
   "cell_type": "code",
   "execution_count": 28,
   "metadata": {},
   "outputs": [],
   "source": [
    "df_train = load_dataset(r'../data/cnn_dailymail/train.csv')\n",
    "df_train['highlights'] = df_train['highlights'].str.replace('\\n', ' ', regex=True)\n",
    "df_train['highlights'] = df_train['highlights'].str.replace(' \\.', '.', regex=True)\n",
    "\n",
    "df_val = load_dataset(r'../data/cnn_dailymail/validation.csv')\n",
    "df_val['highlights'] = df_val['highlights'].str.replace('\\n', ' ', regex=True)\n",
    "df_val['highlights'] = df_val['highlights'].str.replace(' \\.', '.', regex=True)\n",
    "\n",
    "df_test = load_dataset(r'../data/cnn_dailymail/test.csv')\n",
    "df_test['highlights'] = df_test['highlights'].str.replace('\\n', ' ', regex=True)\n",
    "df_test['highlights'] = df_test['highlights'].str.replace(' \\.', '.', regex=True)"
   ]
  },
  {
   "cell_type": "code",
   "execution_count": 7,
   "metadata": {},
   "outputs": [
    {
     "data": {
      "text/html": [
       "<div>\n",
       "<style scoped>\n",
       "    .dataframe tbody tr th:only-of-type {\n",
       "        vertical-align: middle;\n",
       "    }\n",
       "\n",
       "    .dataframe tbody tr th {\n",
       "        vertical-align: top;\n",
       "    }\n",
       "\n",
       "    .dataframe thead th {\n",
       "        text-align: right;\n",
       "    }\n",
       "</style>\n",
       "<table border=\"1\" class=\"dataframe\">\n",
       "  <thead>\n",
       "    <tr style=\"text-align: right;\">\n",
       "      <th></th>\n",
       "      <th>id</th>\n",
       "      <th>highlights</th>\n",
       "    </tr>\n",
       "  </thead>\n",
       "  <tbody>\n",
       "    <tr>\n",
       "      <th>0</th>\n",
       "      <td>92c514c913c0bdfe25341af9fd72b29db544099b</td>\n",
       "      <td>Experts question if  packed out planes are put...</td>\n",
       "    </tr>\n",
       "    <tr>\n",
       "      <th>1</th>\n",
       "      <td>2003841c7dc0e7c5b1a248f9cd536d727f27a45a</td>\n",
       "      <td>Drunk teenage boy climbed into lion enclosure ...</td>\n",
       "    </tr>\n",
       "    <tr>\n",
       "      <th>2</th>\n",
       "      <td>91b7d2311527f5c2b63a65ca98d21d9c92485149</td>\n",
       "      <td>Nottingham Forest are close to extending Dougi...</td>\n",
       "    </tr>\n",
       "    <tr>\n",
       "      <th>3</th>\n",
       "      <td>caabf9cbdf96eb1410295a673e953d304391bfbb</td>\n",
       "      <td>Fiorentina goalkeeper Neto has been linked wit...</td>\n",
       "    </tr>\n",
       "    <tr>\n",
       "      <th>4</th>\n",
       "      <td>3da746a7d9afcaa659088c8366ef6347fe6b53ea</td>\n",
       "      <td>Tell-all interview with the reality TV star, 6...</td>\n",
       "    </tr>\n",
       "    <tr>\n",
       "      <th>...</th>\n",
       "      <td>...</td>\n",
       "      <td>...</td>\n",
       "    </tr>\n",
       "    <tr>\n",
       "      <th>11485</th>\n",
       "      <td>ed8674cc15b29a87d8df8de1efee353d71122272</td>\n",
       "      <td>Oxford scientists say a Mercury-like body stru...</td>\n",
       "    </tr>\n",
       "    <tr>\n",
       "      <th>11486</th>\n",
       "      <td>2f58d1a99e9c47914e4b1c31613e3a041cd9011e</td>\n",
       "      <td>Man accused of helping former lover kill woman...</td>\n",
       "    </tr>\n",
       "    <tr>\n",
       "      <th>11487</th>\n",
       "      <td>411f6d57825161c3a037b4742baccd6cd227c0c3</td>\n",
       "      <td>Marianne Power tried the tuning fork facial at...</td>\n",
       "    </tr>\n",
       "    <tr>\n",
       "      <th>11488</th>\n",
       "      <td>b5683ef8342056b17b068e0d59bdbe87e3fe44ea</td>\n",
       "      <td>Brooklyn Nets beat the Portland Trail Blazers ...</td>\n",
       "    </tr>\n",
       "    <tr>\n",
       "      <th>11489</th>\n",
       "      <td>a6a5491edb0c96c4391b6a8c4504416b3572b3a1</td>\n",
       "      <td>Chinese hospital marked for demolition because...</td>\n",
       "    </tr>\n",
       "  </tbody>\n",
       "</table>\n",
       "<p>11490 rows × 2 columns</p>\n",
       "</div>"
      ],
      "text/plain": [
       "                                             id  \\\n",
       "0      92c514c913c0bdfe25341af9fd72b29db544099b   \n",
       "1      2003841c7dc0e7c5b1a248f9cd536d727f27a45a   \n",
       "2      91b7d2311527f5c2b63a65ca98d21d9c92485149   \n",
       "3      caabf9cbdf96eb1410295a673e953d304391bfbb   \n",
       "4      3da746a7d9afcaa659088c8366ef6347fe6b53ea   \n",
       "...                                         ...   \n",
       "11485  ed8674cc15b29a87d8df8de1efee353d71122272   \n",
       "11486  2f58d1a99e9c47914e4b1c31613e3a041cd9011e   \n",
       "11487  411f6d57825161c3a037b4742baccd6cd227c0c3   \n",
       "11488  b5683ef8342056b17b068e0d59bdbe87e3fe44ea   \n",
       "11489  a6a5491edb0c96c4391b6a8c4504416b3572b3a1   \n",
       "\n",
       "                                              highlights  \n",
       "0      Experts question if  packed out planes are put...  \n",
       "1      Drunk teenage boy climbed into lion enclosure ...  \n",
       "2      Nottingham Forest are close to extending Dougi...  \n",
       "3      Fiorentina goalkeeper Neto has been linked wit...  \n",
       "4      Tell-all interview with the reality TV star, 6...  \n",
       "...                                                  ...  \n",
       "11485  Oxford scientists say a Mercury-like body stru...  \n",
       "11486  Man accused of helping former lover kill woman...  \n",
       "11487  Marianne Power tried the tuning fork facial at...  \n",
       "11488  Brooklyn Nets beat the Portland Trail Blazers ...  \n",
       "11489  Chinese hospital marked for demolition because...  \n",
       "\n",
       "[11490 rows x 2 columns]"
      ]
     },
     "execution_count": 7,
     "metadata": {},
     "output_type": "execute_result"
    }
   ],
   "source": [
    "df_test[['id', 'highlights']]"
   ]
  },
  {
   "cell_type": "markdown",
   "metadata": {},
   "source": [
    "## Step 2. Load model"
   ]
  },
  {
   "cell_type": "code",
   "execution_count": null,
   "metadata": {},
   "outputs": [],
   "source": [
    "from src.extractive import ExtractiveSummarizer\n",
    "model = ExtractiveSummarizer.load_from_checkpoint(\"./models/distilbert.ckpt\")"
   ]
  },
  {
   "cell_type": "markdown",
   "metadata": {},
   "source": [
    "## Step 3. Qualitative Investigation"
   ]
  },
  {
   "cell_type": "code",
   "execution_count": 32,
   "metadata": {},
   "outputs": [
    {
     "name": "stdout",
     "output_type": "stream",
     "text": [
      "The bishop of the Fargo Catholic Diocese in North Dakota has exposed potentially hundreds of church members in Fargo , Grand Forks and Jamestown to the hepatitis A virus in late September and early October. Bishop John Folda ( pictured ) of the Fargo Catholic Diocese in North Dakota has exposed potentially hundreds of church members in Fargo , Grand Forks and Jamestown to the hepatitis A. The diocese announced on Monday that Bishop John Folda is taking time off after being diagnosed with hepatitis A. The diocese says he contracted the infection through contaminated food while attending a conference for newly ordained bishops in Italy last month.\n"
     ]
    },
    {
     "data": {
      "text/plain": [
       "['The bishop of the Fargo Catholic Diocese in North Dakota has exposed potentially hundreds of church members in Fargo , Grand Forks and Jamestown to the hepatitis A virus in late September and early October',\n",
       " ' Bishop John Folda ( pictured ) of the Fargo Catholic Diocese in North Dakota has exposed potentially hundreds of church members in Fargo , Grand Forks and Jamestown to the hepatitis A',\n",
       " ' The diocese announced on Monday that Bishop John Folda is taking time off after being diagnosed with hepatitis A',\n",
       " ' The diocese says he contracted the infection through contaminated food while attending a conference for newly ordained bishops in Italy last month',\n",
       " '']"
      ]
     },
     "execution_count": 32,
     "metadata": {},
     "output_type": "execute_result"
    }
   ],
   "source": [
    "article = df_train['article'][0]\n",
    "summary = model.predict(article)\n",
    "print(summary)\n",
    "summary.split('.')"
   ]
  },
  {
   "cell_type": "markdown",
   "metadata": {},
   "source": [
    "## Step 4. Infer on Testset"
   ]
  },
  {
   "cell_type": "markdown",
   "metadata": {},
   "source": [
    "The code cell below is sufficient for step 4 as it encapusulates every step we need to generate the results."
   ]
  },
  {
   "cell_type": "code",
   "execution_count": null,
   "metadata": {},
   "outputs": [],
   "source": [
    "try:\n",
    "    results = pd.read_csv('./pred/distilbert.csv')\n",
    "except:\n",
    "    results = pd.DataFrame(data=df_test[['id', 'highlights']])\n",
    "    results.rename(columns={'highlights':'actual_summary'}, inplace=True)\n",
    "    results['pred_summary'] = df_test.apply(lambda row:\n",
    "                                            model.predict(row.article),\n",
    "                                            axis=1)\n",
    "    rouge = Rouge()\n",
    "    rouge_scores = rouge.get_scores(hyps=results['pred_summary'],\n",
    "                                    refs=results['actual_summary'])\n",
    "    results['rogue1_f1'] = [record['rouge-1']['f']for record in rouge_scores]\n",
    "    results['rogue2_f1'] = [record['rouge-2']['f']for record in rouge_scores]\n",
    "    results['rogueL_f1'] = [record['rouge-l']['f']for record in rouge_scores]\n",
    "    results.to_csv('./pred/distilbert.csv', index=False)"
   ]
  },
  {
   "cell_type": "markdown",
   "metadata": {},
   "source": [
    "Alternatively, we can run the following code cells to check the `results` step by step. The outcome are the same."
   ]
  },
  {
   "cell_type": "code",
   "execution_count": 9,
   "metadata": {},
   "outputs": [],
   "source": [
    "results = pd.DataFrame(data=df_test[['id', 'highlights']])\n",
    "results.rename(columns={'highlights':'actual_summary'}, inplace=True)"
   ]
  },
  {
   "cell_type": "code",
   "execution_count": 10,
   "metadata": {},
   "outputs": [
    {
     "name": "stderr",
     "output_type": "stream",
     "text": [
      "Token indices sequence length is longer than the specified maximum sequence length for this model (1041 > 512). Running this sequence through the model will result in indexing errors\n"
     ]
    }
   ],
   "source": [
    "results['pred_summary'] = df_test.apply(lambda row: model.predict(row.article), axis=1)"
   ]
  },
  {
   "cell_type": "code",
   "execution_count": 11,
   "metadata": {},
   "outputs": [],
   "source": [
    "rouge = Rouge()\n",
    "rouge_scores = rouge.get_scores(hyps=results['pred_summary'],\n",
    "                                refs=results['actual_summary'])\n",
    "results['rogue1_f1'] = [record['rouge-1']['f']for record in rouge_scores]\n",
    "results['rogue2_f1'] = [record['rouge-2']['f']for record in rouge_scores]\n",
    "results['rogueL_f1'] = [record['rouge-l']['f']for record in rouge_scores]"
   ]
  },
  {
   "cell_type": "code",
   "execution_count": 12,
   "metadata": {},
   "outputs": [
    {
     "data": {
      "text/html": [
       "<div>\n",
       "<style scoped>\n",
       "    .dataframe tbody tr th:only-of-type {\n",
       "        vertical-align: middle;\n",
       "    }\n",
       "\n",
       "    .dataframe tbody tr th {\n",
       "        vertical-align: top;\n",
       "    }\n",
       "\n",
       "    .dataframe thead th {\n",
       "        text-align: right;\n",
       "    }\n",
       "</style>\n",
       "<table border=\"1\" class=\"dataframe\">\n",
       "  <thead>\n",
       "    <tr style=\"text-align: right;\">\n",
       "      <th></th>\n",
       "      <th>id</th>\n",
       "      <th>actual_summary</th>\n",
       "      <th>pred_summary</th>\n",
       "      <th>rogue1_f1</th>\n",
       "      <th>rogue2_f1</th>\n",
       "      <th>rogueL_f1</th>\n",
       "    </tr>\n",
       "  </thead>\n",
       "  <tbody>\n",
       "    <tr>\n",
       "      <th>0</th>\n",
       "      <td>92c514c913c0bdfe25341af9fd72b29db544099b</td>\n",
       "      <td>Experts question if  packed out planes are put...</td>\n",
       "      <td>This week , a U.S consumer advisory group set ...</td>\n",
       "      <td>0.297030</td>\n",
       "      <td>0.117647</td>\n",
       "      <td>0.297030</td>\n",
       "    </tr>\n",
       "    <tr>\n",
       "      <th>1</th>\n",
       "      <td>2003841c7dc0e7c5b1a248f9cd536d727f27a45a</td>\n",
       "      <td>Drunk teenage boy climbed into lion enclosure ...</td>\n",
       "      <td>Rahul Kumar , 17 , clambered over the enclosur...</td>\n",
       "      <td>0.413793</td>\n",
       "      <td>0.105263</td>\n",
       "      <td>0.344828</td>\n",
       "    </tr>\n",
       "    <tr>\n",
       "      <th>2</th>\n",
       "      <td>91b7d2311527f5c2b63a65ca98d21d9c92485149</td>\n",
       "      <td>Nottingham Forest are close to extending Dougi...</td>\n",
       "      <td>Dougie Freedman is on the verge of agreeing a ...</td>\n",
       "      <td>0.406780</td>\n",
       "      <td>0.144928</td>\n",
       "      <td>0.338983</td>\n",
       "    </tr>\n",
       "    <tr>\n",
       "      <th>3</th>\n",
       "      <td>caabf9cbdf96eb1410295a673e953d304391bfbb</td>\n",
       "      <td>Fiorentina goalkeeper Neto has been linked wit...</td>\n",
       "      <td>Liverpool target Neto is also wanted by PSG an...</td>\n",
       "      <td>0.428571</td>\n",
       "      <td>0.203390</td>\n",
       "      <td>0.346939</td>\n",
       "    </tr>\n",
       "    <tr>\n",
       "      <th>4</th>\n",
       "      <td>3da746a7d9afcaa659088c8366ef6347fe6b53ea</td>\n",
       "      <td>Tell-all interview with the reality TV star, 6...</td>\n",
       "      <td>Bruce Jenner will break his silence in a two -...</td>\n",
       "      <td>0.508772</td>\n",
       "      <td>0.262069</td>\n",
       "      <td>0.508772</td>\n",
       "    </tr>\n",
       "    <tr>\n",
       "      <th>...</th>\n",
       "      <td>...</td>\n",
       "      <td>...</td>\n",
       "      <td>...</td>\n",
       "      <td>...</td>\n",
       "      <td>...</td>\n",
       "      <td>...</td>\n",
       "    </tr>\n",
       "    <tr>\n",
       "      <th>11485</th>\n",
       "      <td>ed8674cc15b29a87d8df8de1efee353d71122272</td>\n",
       "      <td>Oxford scientists say a Mercury-like body stru...</td>\n",
       "      <td>Oxford scientists say a Mercury - like body st...</td>\n",
       "      <td>0.695652</td>\n",
       "      <td>0.625000</td>\n",
       "      <td>0.695652</td>\n",
       "    </tr>\n",
       "    <tr>\n",
       "      <th>11486</th>\n",
       "      <td>2f58d1a99e9c47914e4b1c31613e3a041cd9011e</td>\n",
       "      <td>Man accused of helping former lover kill woman...</td>\n",
       "      <td>Micheal John Duffy , 34 , pleaded not guilty t...</td>\n",
       "      <td>0.462585</td>\n",
       "      <td>0.211055</td>\n",
       "      <td>0.448980</td>\n",
       "    </tr>\n",
       "    <tr>\n",
       "      <th>11487</th>\n",
       "      <td>411f6d57825161c3a037b4742baccd6cd227c0c3</td>\n",
       "      <td>Marianne Power tried the tuning fork facial at...</td>\n",
       "      <td>I 'm here to try the wackiest face treatment t...</td>\n",
       "      <td>0.423529</td>\n",
       "      <td>0.276596</td>\n",
       "      <td>0.423529</td>\n",
       "    </tr>\n",
       "    <tr>\n",
       "      <th>11488</th>\n",
       "      <td>b5683ef8342056b17b068e0d59bdbe87e3fe44ea</td>\n",
       "      <td>Brooklyn Nets beat the Portland Trail Blazers ...</td>\n",
       "      <td>Brook Lopez dominated twin brother Robin with ...</td>\n",
       "      <td>0.359551</td>\n",
       "      <td>0.148148</td>\n",
       "      <td>0.359551</td>\n",
       "    </tr>\n",
       "    <tr>\n",
       "      <th>11489</th>\n",
       "      <td>a6a5491edb0c96c4391b6a8c4504416b3572b3a1</td>\n",
       "      <td>Chinese hospital marked for demolition because...</td>\n",
       "      <td>The building , which was built in the 1960s an...</td>\n",
       "      <td>0.427350</td>\n",
       "      <td>0.150943</td>\n",
       "      <td>0.376068</td>\n",
       "    </tr>\n",
       "  </tbody>\n",
       "</table>\n",
       "<p>11490 rows × 6 columns</p>\n",
       "</div>"
      ],
      "text/plain": [
       "                                             id  \\\n",
       "0      92c514c913c0bdfe25341af9fd72b29db544099b   \n",
       "1      2003841c7dc0e7c5b1a248f9cd536d727f27a45a   \n",
       "2      91b7d2311527f5c2b63a65ca98d21d9c92485149   \n",
       "3      caabf9cbdf96eb1410295a673e953d304391bfbb   \n",
       "4      3da746a7d9afcaa659088c8366ef6347fe6b53ea   \n",
       "...                                         ...   \n",
       "11485  ed8674cc15b29a87d8df8de1efee353d71122272   \n",
       "11486  2f58d1a99e9c47914e4b1c31613e3a041cd9011e   \n",
       "11487  411f6d57825161c3a037b4742baccd6cd227c0c3   \n",
       "11488  b5683ef8342056b17b068e0d59bdbe87e3fe44ea   \n",
       "11489  a6a5491edb0c96c4391b6a8c4504416b3572b3a1   \n",
       "\n",
       "                                          actual_summary  \\\n",
       "0      Experts question if  packed out planes are put...   \n",
       "1      Drunk teenage boy climbed into lion enclosure ...   \n",
       "2      Nottingham Forest are close to extending Dougi...   \n",
       "3      Fiorentina goalkeeper Neto has been linked wit...   \n",
       "4      Tell-all interview with the reality TV star, 6...   \n",
       "...                                                  ...   \n",
       "11485  Oxford scientists say a Mercury-like body stru...   \n",
       "11486  Man accused of helping former lover kill woman...   \n",
       "11487  Marianne Power tried the tuning fork facial at...   \n",
       "11488  Brooklyn Nets beat the Portland Trail Blazers ...   \n",
       "11489  Chinese hospital marked for demolition because...   \n",
       "\n",
       "                                            pred_summary  rogue1_f1  \\\n",
       "0      This week , a U.S consumer advisory group set ...   0.297030   \n",
       "1      Rahul Kumar , 17 , clambered over the enclosur...   0.413793   \n",
       "2      Dougie Freedman is on the verge of agreeing a ...   0.406780   \n",
       "3      Liverpool target Neto is also wanted by PSG an...   0.428571   \n",
       "4      Bruce Jenner will break his silence in a two -...   0.508772   \n",
       "...                                                  ...        ...   \n",
       "11485  Oxford scientists say a Mercury - like body st...   0.695652   \n",
       "11486  Micheal John Duffy , 34 , pleaded not guilty t...   0.462585   \n",
       "11487  I 'm here to try the wackiest face treatment t...   0.423529   \n",
       "11488  Brook Lopez dominated twin brother Robin with ...   0.359551   \n",
       "11489  The building , which was built in the 1960s an...   0.427350   \n",
       "\n",
       "       rogue2_f1  rogueL_f1  \n",
       "0       0.117647   0.297030  \n",
       "1       0.105263   0.344828  \n",
       "2       0.144928   0.338983  \n",
       "3       0.203390   0.346939  \n",
       "4       0.262069   0.508772  \n",
       "...          ...        ...  \n",
       "11485   0.625000   0.695652  \n",
       "11486   0.211055   0.448980  \n",
       "11487   0.276596   0.423529  \n",
       "11488   0.148148   0.359551  \n",
       "11489   0.150943   0.376068  \n",
       "\n",
       "[11490 rows x 6 columns]"
      ]
     },
     "execution_count": 12,
     "metadata": {},
     "output_type": "execute_result"
    }
   ],
   "source": [
    "results"
   ]
  },
  {
   "cell_type": "code",
   "execution_count": 13,
   "metadata": {},
   "outputs": [],
   "source": [
    "results.to_csv('./pred/distilbert.csv', index=False)"
   ]
  },
  {
   "cell_type": "markdown",
   "metadata": {},
   "source": [
    "## Step 5. Quantitative Investigation"
   ]
  },
  {
   "cell_type": "code",
   "execution_count": 19,
   "metadata": {},
   "outputs": [],
   "source": [
    "rouge1_f1 = results['rogue1_f1']\n",
    "rouge2_f1 = results['rogue2_f1']\n",
    "rougeL_f1 = results['rogueL_f1']\n",
    "avg_rouge1_f1 = rouge1_f1.mean()\n",
    "avg_rouge2_f1 = rouge2_f1.mean()\n",
    "avg_rougeL_f1 = rougeL_f1.mean()"
   ]
  },
  {
   "cell_type": "code",
   "execution_count": 25,
   "metadata": {},
   "outputs": [
    {
     "data": {
      "image/png": "[encoded data removed]",
      "text/plain": [
       "<Figure size 1500x400 with 3 Axes>"
      ]
     },
     "metadata": {},
     "output_type": "display_data"
    }
   ],
   "source": [
    "plt.figure(figsize=(15, 4))\n",
    "\n",
    "plt.subplot(1, 3, 1)\n",
    "plt.hist(rouge1_f1, bins=[0.1*i for i in range(11)],\n",
    "         weights=np.ones(len(rouge1_f1))/len(rouge1_f1))\n",
    "plt.axvline(x=avg_rouge1_f1, ls='--', lw=2, c='black', label=f'avg={avg_rouge1_f1:.2f}')\n",
    "plt.legend()\n",
    "plt.gca().yaxis.set_major_formatter(PercentFormatter(xmax=1, decimals=0))\n",
    "plt.xlim(0, 1)\n",
    "plt.xticks([0.1*i for i in range(11)])\n",
    "plt.xlabel('ROUGE-1 score')\n",
    "plt.ylabel('Percentage of samples')\n",
    "\n",
    "plt.subplot(1, 3, 2)\n",
    "plt.hist(rouge2_f1, bins=[0.1*i for i in range(11)],\n",
    "         weights=np.ones(len(rouge2_f1))/len(rouge2_f1))\n",
    "plt.axvline(x=avg_rouge2_f1, ls='--', lw=2, c='black', label=f'avg={avg_rouge2_f1:.2f}')\n",
    "plt.legend()\n",
    "plt.gca().yaxis.set_major_formatter(PercentFormatter(xmax=1, decimals=0))\n",
    "plt.xlim(0, 1)\n",
    "plt.xticks([0.1*i for i in range(11)])\n",
    "plt.xlabel('ROUGE-2 score')\n",
    "\n",
    "plt.subplot(1, 3, 3)\n",
    "plt.hist(rougeL_f1, bins=[0.1*i for i in range(11)],\n",
    "         weights=np.ones(len(rougeL_f1))/len(rougeL_f1))\n",
    "plt.axvline(x=avg_rougeL_f1, ls='--', lw=2, c='black', label=f'avg={avg_rougeL_f1:.2f}')\n",
    "plt.legend()\n",
    "plt.gca().yaxis.set_major_formatter(PercentFormatter(xmax=1, decimals=0))\n",
    "plt.xlim(0, 1)\n",
    "plt.xticks([0.1*i for i in range(11)])\n",
    "plt.xlabel('ROUGE-L score')\n",
    "\n",
    "plt.show()"
   ]
  }
 ],
 "metadata": {
  "kernelspec": {
   "display_name": "transformersum",
   "language": "python",
   "name": "python3"
  },
  "language_info": {
   "codemirror_mode": {
    "name": "ipython",
    "version": 3
   },
   "file_extension": ".py",
   "mimetype": "text/x-python",
   "name": "python",
   "nbconvert_exporter": "python",
   "pygments_lexer": "ipython3",
   "version": "3.10.13"
  }
 },
 "nbformat": 4,
 "nbformat_minor": 2
}
