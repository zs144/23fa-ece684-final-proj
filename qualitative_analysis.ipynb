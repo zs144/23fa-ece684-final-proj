{
 "cells": [
  {
   "cell_type": "code",
   "execution_count": 191,
   "metadata": {},
   "outputs": [],
   "source": [
    "import pandas as pd\n",
    "import textwrap"
   ]
  },
  {
   "cell_type": "code",
   "execution_count": 192,
   "metadata": {},
   "outputs": [],
   "source": [
    "# Read dataset.\n",
    "def load_dataset(dataset_path: str) -> pd.DataFrame:\n",
    "    df = pd.read_csv(dataset_path)\n",
    "    df.dropna(inplace=True) # Drop null values (if any)\n",
    "    return df"
   ]
  },
  {
   "cell_type": "code",
   "execution_count": 193,
   "metadata": {},
   "outputs": [
    {
     "data": {
      "text/html": [
       "<div>\n",
       "<style scoped>\n",
       "    .dataframe tbody tr th:only-of-type {\n",
       "        vertical-align: middle;\n",
       "    }\n",
       "\n",
       "    .dataframe tbody tr th {\n",
       "        vertical-align: top;\n",
       "    }\n",
       "\n",
       "    .dataframe thead th {\n",
       "        text-align: right;\n",
       "    }\n",
       "</style>\n",
       "<table border=\"1\" class=\"dataframe\">\n",
       "  <thead>\n",
       "    <tr style=\"text-align: right;\">\n",
       "      <th></th>\n",
       "      <th>id</th>\n",
       "      <th>article</th>\n",
       "      <th>highlights</th>\n",
       "    </tr>\n",
       "  </thead>\n",
       "  <tbody>\n",
       "    <tr>\n",
       "      <th>0</th>\n",
       "      <td>92c514c913c0bdfe25341af9fd72b29db544099b</td>\n",
       "      <td>Ever noticed how plane seats appear to be gett...</td>\n",
       "      <td>Experts question if  packed out planes are put...</td>\n",
       "    </tr>\n",
       "    <tr>\n",
       "      <th>1</th>\n",
       "      <td>2003841c7dc0e7c5b1a248f9cd536d727f27a45a</td>\n",
       "      <td>A drunk teenage boy had to be rescued by secur...</td>\n",
       "      <td>Drunk teenage boy climbed into lion enclosure ...</td>\n",
       "    </tr>\n",
       "    <tr>\n",
       "      <th>2</th>\n",
       "      <td>91b7d2311527f5c2b63a65ca98d21d9c92485149</td>\n",
       "      <td>Dougie Freedman is on the verge of agreeing a ...</td>\n",
       "      <td>Nottingham Forest are close to extending Dougi...</td>\n",
       "    </tr>\n",
       "    <tr>\n",
       "      <th>3</th>\n",
       "      <td>caabf9cbdf96eb1410295a673e953d304391bfbb</td>\n",
       "      <td>Liverpool target Neto is also wanted by PSG an...</td>\n",
       "      <td>Fiorentina goalkeeper Neto has been linked wit...</td>\n",
       "    </tr>\n",
       "    <tr>\n",
       "      <th>4</th>\n",
       "      <td>3da746a7d9afcaa659088c8366ef6347fe6b53ea</td>\n",
       "      <td>Bruce Jenner will break his silence in a two-h...</td>\n",
       "      <td>Tell-all interview with the reality TV star, 6...</td>\n",
       "    </tr>\n",
       "  </tbody>\n",
       "</table>\n",
       "</div>"
      ],
      "text/plain": [
       "                                         id  \\\n",
       "0  92c514c913c0bdfe25341af9fd72b29db544099b   \n",
       "1  2003841c7dc0e7c5b1a248f9cd536d727f27a45a   \n",
       "2  91b7d2311527f5c2b63a65ca98d21d9c92485149   \n",
       "3  caabf9cbdf96eb1410295a673e953d304391bfbb   \n",
       "4  3da746a7d9afcaa659088c8366ef6347fe6b53ea   \n",
       "\n",
       "                                             article  \\\n",
       "0  Ever noticed how plane seats appear to be gett...   \n",
       "1  A drunk teenage boy had to be rescued by secur...   \n",
       "2  Dougie Freedman is on the verge of agreeing a ...   \n",
       "3  Liverpool target Neto is also wanted by PSG an...   \n",
       "4  Bruce Jenner will break his silence in a two-h...   \n",
       "\n",
       "                                          highlights  \n",
       "0  Experts question if  packed out planes are put...  \n",
       "1  Drunk teenage boy climbed into lion enclosure ...  \n",
       "2  Nottingham Forest are close to extending Dougi...  \n",
       "3  Fiorentina goalkeeper Neto has been linked wit...  \n",
       "4  Tell-all interview with the reality TV star, 6...  "
      ]
     },
     "execution_count": 193,
     "metadata": {},
     "output_type": "execute_result"
    }
   ],
   "source": [
    "df_test = load_dataset(r'./data/cnn_dailymail/test.csv')\n",
    "df_test['highlights'] = df_test['highlights'].str.replace('\\n', ' ', regex=True)\n",
    "df_test['highlights'] = df_test['highlights'].str.replace(' \\.', '.', regex=True)\n",
    "df_test.head()"
   ]
  },
  {
   "cell_type": "code",
   "execution_count": 194,
   "metadata": {},
   "outputs": [],
   "source": [
    "example_index = 1\n",
    "example_text = df_test.iloc[example_index]['article']\n",
    "example_reference = df_test.iloc[example_index]['highlights']"
   ]
  },
  {
   "cell_type": "code",
   "execution_count": 195,
   "metadata": {},
   "outputs": [
    {
     "name": "stdout",
     "output_type": "stream",
     "text": [
      "A drunk teenage boy had to be rescued by security after jumping into a lions' enclosure at a zoo in western India. Rahul Kumar, 17, clambered over the enclosure fence at the Kamla Nehru Zoological Park in Ahmedabad, and began running towards the animals, shouting he would 'kill them'. Mr Kumar explained afterwards that he was drunk and 'thought I'd stand a good chance' against the predators. Next level drunk: Intoxicated Rahul Kumar, 17, climbed into the lions' enclosure at a zoo in Ahmedabad and began running towards the animals shouting 'Today I kill a lion!' Mr Kumar had been sitting near the enclosure when he suddenly made a dash for the lions, surprising zoo security. The intoxicated teenager ran towards the lions, shouting: 'Today I kill a lion or a lion kills me!' A zoo spokesman said: 'Guards had earlier spotted him close to the enclosure but had no idea he was planing to enter it. 'Fortunately, there are eight moats to cross before getting to where the lions usually are and he fell into the second one, allowing guards to catch up with him and take him out. 'We then handed him over to the police.' Brave fool: Fortunately, Mr Kumar  fell into a moat as he ran towards the lions and could be rescued by zoo security staff before reaching the animals (stock image) Kumar later explained: 'I don't really know why I did it. 'I was drunk and thought I'd stand a good chance.' A police spokesman said: 'He has been cautioned and will be sent for psychiatric evaluation. 'Fortunately for him, the lions were asleep and the zoo guards acted quickly enough to prevent a tragedy similar to that in Delhi.' Last year a 20-year-old man was mauled to death by a tiger in the Indian capital after climbing into its enclosure at the city zoo.\n"
     ]
    }
   ],
   "source": [
    "print(example_text)"
   ]
  },
  {
   "cell_type": "code",
   "execution_count": 196,
   "metadata": {},
   "outputs": [
    {
     "name": "stdout",
     "output_type": "stream",
     "text": [
      "A drunk teenage boy had to be rescued by security after jumping into a\n",
      "lions' enclosure at a zoo in western India.  Rahul Kumar, 17,\n",
      "clambered over the enclosure fence at the Kamla Nehru Zoological Park\n",
      "in Ahmedabad, and began running towards the animals, shouting he would\n",
      "'kill them'. Mr Kumar explained afterwards that he was drunk and\n",
      "'thought I'd stand a good chance' against the predators.  Next level\n",
      "drunk: Intoxicated Rahul Kumar, 17, climbed into the lions' enclosure\n",
      "at a zoo in Ahmedabad and began running towards the animals shouting\n",
      "'Today I kill a lion!'  Mr Kumar had been sitting near the enclosure\n",
      "when he suddenly made a dash for the lions, surprising zoo security.\n",
      "The intoxicated teenager ran towards the lions, shouting: 'Today I\n",
      "kill a lion or a lion kills me!'  A zoo spokesman said: 'Guards had\n",
      "earlier spotted him close to the enclosure but had no idea he was\n",
      "planing to enter it.  'Fortunately, there are eight moats to cross\n",
      "before getting to where the lions usually are and he fell into the\n",
      "second one, allowing guards to catch up with him and take him out.\n",
      "'We then handed him over to the police.'  Brave fool: Fortunately, Mr\n",
      "Kumar  fell into a moat as he ran towards the lions and could be\n",
      "rescued by zoo security staff before reaching the animals (stock\n",
      "image) Kumar later explained: 'I don't really know why I did it.  'I\n",
      "was drunk and thought I'd stand a good chance.'  A police spokesman\n",
      "said: 'He has been cautioned and will be sent for psychiatric\n",
      "evaluation.  'Fortunately for him, the lions were asleep and the zoo\n",
      "guards acted quickly enough to prevent a tragedy similar to that in\n",
      "Delhi.'  Last year a 20-year-old man was mauled to death by a tiger in\n",
      "the Indian capital after climbing into its enclosure at the city zoo.\n"
     ]
    }
   ],
   "source": [
    "print(textwrap.fill(text=example_text, replace_whitespace=False,\n",
    "                    fix_sentence_endings=True))"
   ]
  },
  {
   "cell_type": "code",
   "execution_count": 197,
   "metadata": {},
   "outputs": [
    {
     "name": "stdout",
     "output_type": "stream",
     "text": [
      "Drunk teenage boy climbed into lion enclosure at zoo in west India. Rahul Kumar, 17, ran towards animals shouting 'Today I kill a lion!' Fortunately he fell into a moat before reaching lions and was rescued.\n"
     ]
    }
   ],
   "source": [
    "print(example_reference)"
   ]
  },
  {
   "cell_type": "code",
   "execution_count": 198,
   "metadata": {},
   "outputs": [
    {
     "name": "stdout",
     "output_type": "stream",
     "text": [
      "Drunk teenage boy climbed into lion enclosure at zoo in west India.\n",
      "Rahul Kumar, 17, ran towards animals shouting 'Today I kill a lion!'\n",
      "Fortunately he fell into a moat before reaching lions and was rescued.\n"
     ]
    }
   ],
   "source": [
    "print(textwrap.fill(text=example_reference, replace_whitespace=False,\n",
    "                    fix_sentence_endings=True))"
   ]
  },
  {
   "cell_type": "code",
   "execution_count": 199,
   "metadata": {},
   "outputs": [],
   "source": [
    "def get_candidate_summary(results_path: str, record_index: int):\n",
    "    results = pd.read_csv(results_path)\n",
    "    candidate_summary = results.iloc[record_index]['pred_summary']\n",
    "    rouge1 = results.iloc[record_index]['rogue1_f1']\n",
    "    rouge2 = results.iloc[record_index]['rogue2_f1']\n",
    "    rougeL = results.iloc[record_index]['rogueL_f1']\n",
    "    print('ROUGE-1    ROUGE-2    ROUGE-L')\n",
    "    print(f'{rouge1:.2f}       {rouge2:.2f}       {rougeL:.2f}')\n",
    "    return candidate_summary"
   ]
  },
  {
   "cell_type": "markdown",
   "metadata": {},
   "source": [
    "### Extractive Summerization"
   ]
  },
  {
   "cell_type": "markdown",
   "metadata": {},
   "source": [
    "#### Method 1. TF-IDF summerization"
   ]
  },
  {
   "cell_type": "code",
   "execution_count": 200,
   "metadata": {},
   "outputs": [
    {
     "name": "stdout",
     "output_type": "stream",
     "text": [
      "ROUGE-1    ROUGE-2    ROUGE-L\n",
      "0.39       0.15       0.35\n"
     ]
    },
    {
     "data": {
      "text/plain": [
       "\"A police spokesman said: 'He has been cautioned and will be sent for psychiatric evaluation. The intoxicated teenager ran towards the lions, shouting: 'Today I kill a lion or a lion kills me!' Mr Kumar explained afterwards that he was drunk and 'thought I'd stand a good chance' against the predators. A drunk teenage boy had to be rescued by security after jumping into a lions' enclosure at a zoo in western India. \""
      ]
     },
     "execution_count": 200,
     "metadata": {},
     "output_type": "execute_result"
    }
   ],
   "source": [
    "method1_results_path = './results/method1-baseline/TFIDFsum.csv'\n",
    "method1_summary = get_candidate_summary(results_path=method1_results_path,\n",
    "                                        record_index=example_index)\n",
    "method1_summary"
   ]
  },
  {
   "cell_type": "code",
   "execution_count": 201,
   "metadata": {},
   "outputs": [
    {
     "name": "stdout",
     "output_type": "stream",
     "text": [
      "A police spokesman said: 'He has been cautioned and will be sent for\n",
      "psychiatric evaluation.  The intoxicated teenager ran towards the\n",
      "lions, shouting: 'Today I kill a lion or a lion kills me!'  Mr Kumar\n",
      "explained afterwards that he was drunk and 'thought I'd stand a good\n",
      "chance' against the predators.  A drunk teenage boy had to be rescued\n",
      "by security after jumping into a lions' enclosure at a zoo in western\n",
      "India.\n"
     ]
    }
   ],
   "source": [
    "print(textwrap.fill(text=method1_summary, replace_whitespace=False,\n",
    "                    fix_sentence_endings=True))"
   ]
  },
  {
   "cell_type": "markdown",
   "metadata": {},
   "source": [
    "#### Method 2. BERTsum"
   ]
  },
  {
   "cell_type": "code",
   "execution_count": 202,
   "metadata": {},
   "outputs": [
    {
     "name": "stdout",
     "output_type": "stream",
     "text": [
      "ROUGE-1    ROUGE-2    ROUGE-L\n",
      "0.41       0.11       0.34\n"
     ]
    },
    {
     "data": {
      "text/plain": [
       "\"Rahul Kumar , 17 , clambered over the enclosure fence at the \\xa0 Kamla Nehru Zoological Park in Ahmedabad , and began running towards the animals , shouting he would ' kill them '. Mr Kumar explained afterwards that he was drunk and ' thought I 'd stand a good chance ' against the predators. Next level drunk : Intoxicated Rahul Kumar , 17 , climbed into the lions ' enclosure at a zoo in Ahmedabad and began running towards the animals shouting ' Today I kill a lion ! '.\""
      ]
     },
     "execution_count": 202,
     "metadata": {},
     "output_type": "execute_result"
    }
   ],
   "source": [
    "method2_results_path = './results/method2-BERTsum/BERTsum.csv'\n",
    "method2_summary = get_candidate_summary(results_path=method2_results_path,\n",
    "                                        record_index=example_index)\n",
    "method2_summary"
   ]
  },
  {
   "cell_type": "code",
   "execution_count": 203,
   "metadata": {},
   "outputs": [
    {
     "name": "stdout",
     "output_type": "stream",
     "text": [
      "Rahul Kumar , 17 , clambered over the enclosure fence at the   Kamla\n",
      "Nehru Zoological Park in Ahmedabad , and began running towards the\n",
      "animals , shouting he would ' kill them '. Mr Kumar explained\n",
      "afterwards that he was drunk and ' thought I 'd stand a good chance '\n",
      "against the predators.  Next level drunk : Intoxicated Rahul Kumar ,\n",
      "17 , climbed into the lions ' enclosure at a zoo in Ahmedabad and\n",
      "began running towards the animals shouting ' Today I kill a lion ! '.\n"
     ]
    }
   ],
   "source": [
    "print(textwrap.fill(text=method2_summary, replace_whitespace=False,\n",
    "                    fix_sentence_endings=True))"
   ]
  },
  {
   "cell_type": "markdown",
   "metadata": {},
   "source": [
    "#### Method 3-1. BART-CNN"
   ]
  },
  {
   "cell_type": "code",
   "execution_count": 204,
   "metadata": {},
   "outputs": [
    {
     "name": "stdout",
     "output_type": "stream",
     "text": [
      "ROUGE-1    ROUGE-2    ROUGE-L\n",
      "0.49       0.27       0.47\n"
     ]
    },
    {
     "data": {
      "text/plain": [
       "\"Rahul Kumar, 17, clambered over enclosure fence at\\xa0Kamla Nehru Zoological Park. He ran towards the animals, shouting: 'Today I kill a lion or a lion kills me!' Fortunately, Mr Kumar fell into a moat before reaching the animals. He has been cautioned and sent for psychiatric evaluation.\""
      ]
     },
     "execution_count": 204,
     "metadata": {},
     "output_type": "execute_result"
    }
   ],
   "source": [
    "bart_results_path = './results/method3-bart-large-cnn/bart-large-cnn_summary.csv'\n",
    "bart_summary = get_candidate_summary(results_path=bart_results_path,\n",
    "                                     record_index=example_index)\n",
    "bart_summary"
   ]
  },
  {
   "cell_type": "code",
   "execution_count": 205,
   "metadata": {},
   "outputs": [
    {
     "name": "stdout",
     "output_type": "stream",
     "text": [
      "Rahul Kumar, 17, clambered over enclosure fence at Kamla Nehru\n",
      "Zoological Park.  He ran towards the animals, shouting: 'Today I kill\n",
      "a lion or a lion kills me!'  Fortunately, Mr Kumar fell into a moat\n",
      "before reaching the animals.  He has been cautioned and sent for\n",
      "psychiatric evaluation.\n"
     ]
    }
   ],
   "source": [
    "print(textwrap.fill(text=bart_summary, replace_whitespace=False,\n",
    "                    fix_sentence_endings=True))"
   ]
  },
  {
   "cell_type": "markdown",
   "metadata": {},
   "source": [
    "#### Method 3-2. T5-small"
   ]
  },
  {
   "cell_type": "code",
   "execution_count": 206,
   "metadata": {},
   "outputs": [
    {
     "name": "stdout",
     "output_type": "stream",
     "text": [
      "ROUGE-1    ROUGE-2    ROUGE-L\n",
      "0.51       0.24       0.49\n"
     ]
    },
    {
     "data": {
      "text/plain": [
       "\"Rahul Kumar, 17, climbed into enclosure fence at zoo in western india. he ran towards the animals shouting: 'Today I kill a lion or a lion kills me!' zoo guards acted quickly enough to prevent a tragedy similar to that in Delhi.\""
      ]
     },
     "execution_count": 206,
     "metadata": {},
     "output_type": "execute_result"
    }
   ],
   "source": [
    "t5_results_path = './results/method3-t5-small/t5-small_summary.csv'\n",
    "t5_summary = get_candidate_summary(results_path=t5_results_path,\n",
    "                                        record_index=example_index)\n",
    "t5_summary"
   ]
  },
  {
   "cell_type": "code",
   "execution_count": 207,
   "metadata": {},
   "outputs": [
    {
     "name": "stdout",
     "output_type": "stream",
     "text": [
      "Rahul Kumar, 17, climbed into enclosure fence at zoo in western india.\n",
      "he ran towards the animals shouting: 'Today I kill a lion or a lion\n",
      "kills me!'  zoo guards acted quickly enough to prevent a tragedy\n",
      "similar to that in Delhi.\n"
     ]
    }
   ],
   "source": [
    "print(textwrap.fill(text=t5_summary, replace_whitespace=False,\n",
    "                    fix_sentence_endings=True))"
   ]
  },
  {
   "cell_type": "code",
   "execution_count": null,
   "metadata": {},
   "outputs": [],
   "source": []
  }
 ],
 "metadata": {
  "kernelspec": {
   "display_name": "base",
   "language": "python",
   "name": "python3"
  },
  "language_info": {
   "codemirror_mode": {
    "name": "ipython",
    "version": 3
   },
   "file_extension": ".py",
   "mimetype": "text/x-python",
   "name": "python",
   "nbconvert_exporter": "python",
   "pygments_lexer": "ipython3",
   "version": "3.11.5"
  }
 },
 "nbformat": 4,
 "nbformat_minor": 2
}
